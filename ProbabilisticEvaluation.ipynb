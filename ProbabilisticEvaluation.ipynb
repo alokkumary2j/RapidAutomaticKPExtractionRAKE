{
 "cells": [
  {
   "cell_type": "code",
   "execution_count": 1,
   "metadata": {
    "collapsed": true
   },
   "outputs": [],
   "source": [
    "import numpy as np"
   ]
  },
  {
   "cell_type": "code",
   "execution_count": 3,
   "metadata": {
    "collapsed": false
   },
   "outputs": [],
   "source": [
    "def computeNCR(n,r):\n",
    "    \"\"\"\n",
    "    Since n and r are very small(<=10)here: Recursion is OK:\n",
    "    \"\"\"\n",
    "    if r==0:\n",
    "        return 1\n",
    "    if r==n:\n",
    "        return 1\n",
    "    if r<0 or r >n:\n",
    "        return 0\n",
    "    return computeNCR(n-1,r-1)+computeNCR(n-1,r)\n",
    "def computePartialTruePosScore(numOfSlots,equiScoreItemC,truePosItemC):\n",
    "    if numOfSlots==1:\n",
    "        return truePosItemC/float(equiScoreItemC)\n",
    "    truePosScore=0.0\n",
    "    totalWaystoFillSlots=float(computeNCR(equiScoreItemC,numOfSlots))\n",
    "    for tpSlotC in range(1,numOfSlots+1):\n",
    "        if truePosItemC<tpSlotC:\n",
    "            #We don't have sufficient True Positive Values to fill all tpSlotC slots\n",
    "            break\n",
    "        probScore=computeNCR(truePosItemC,tpSlotC)*computeNCR(equiScoreItemC-truePosItemC,numOfSlots-tpSlotC)\n",
    "        probScore=probScore/totalWaystoFillSlots\n",
    "        expectedScore=probScore*tpSlotC\n",
    "        truePosScore+=expectedScore\n",
    "    return truePosScore"
   ]
  },
  {
   "cell_type": "code",
   "execution_count": 5,
   "metadata": {
    "collapsed": false
   },
   "outputs": [
    {
     "data": {
      "text/plain": [
       "1.8"
      ]
     },
     "execution_count": 5,
     "metadata": {},
     "output_type": "execute_result"
    }
   ],
   "source": [
    "computePartialTruePosScore(3,5,3)"
   ]
  },
  {
   "cell_type": "code",
   "execution_count": null,
   "metadata": {
    "collapsed": true
   },
   "outputs": [],
   "source": []
  }
 ],
 "metadata": {
  "kernelspec": {
   "display_name": "Python 3",
   "language": "python",
   "name": "python3"
  },
  "language_info": {
   "codemirror_mode": {
    "name": "ipython",
    "version": 3
   },
   "file_extension": ".py",
   "mimetype": "text/x-python",
   "name": "python",
   "nbconvert_exporter": "python",
   "pygments_lexer": "ipython3",
   "version": "3.5.1"
  }
 },
 "nbformat": 4,
 "nbformat_minor": 0
}
