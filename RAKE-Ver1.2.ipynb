{
 "cells": [
  {
   "cell_type": "code",
   "execution_count": 39,
   "metadata": {
    "collapsed": false
   },
   "outputs": [],
   "source": [
    "from __future__ import division\n",
    "import operator\n",
    "import nltk\n",
    "import string\n",
    "import numpy as np\n",
    "import pandas as pd\n",
    "import math\n",
    "from math import log10\n",
    "import copy"
   ]
  },
  {
   "cell_type": "code",
   "execution_count": 2,
   "metadata": {
    "collapsed": true
   },
   "outputs": [],
   "source": [
    "def isPunct(word):\n",
    "    return len(word) == 1 and word in string.punctuation\n",
    "\n",
    "def isNumeric(word):\n",
    "    try:\n",
    "        float(word) if '.' in word else int(word)\n",
    "        return True\n",
    "    except ValueError:\n",
    "        return False"
   ]
  },
  {
   "cell_type": "code",
   "execution_count": 3,
   "metadata": {
    "collapsed": false
   },
   "outputs": [],
   "source": [
    "class RakeKeywordExtractor:\n",
    "\n",
    "    def __init__(self):\n",
    "        self.stopwords = set(nltk.corpus.stopwords.words())\n",
    "        self.top_fraction = 1 # consider top third candidate keywords by score\n",
    "\n",
    "    def _generate_candidate_keywords(self, sentences):\n",
    "        phrase_list = []\n",
    "        for sentence in sentences:\n",
    "            words = map(lambda x: \"|\" if x in self.stopwords else x,nltk.word_tokenize(sentence.lower()))\n",
    "            ##words => NONSTOPWORD | NONSTOPWORD NONSTOPWORD NONSTOPWORD | | NONSTOPWORD | NONSTOPWORD NONSTOPWORD |\n",
    "            phrase = []\n",
    "            for word in words:\n",
    "                if word == \"|\" or isPunct(word):\n",
    "                    if len(phrase) > 0:\n",
    "                        phrase_list.append(phrase)#Got At least 1 NonStopWord\n",
    "                    phrase = []#Prepare for Next Continous NonStopWords\n",
    "                else:\n",
    "                    phrase.append(word)#NonStopWord\n",
    "        return phrase_list\n",
    "\n",
    "    def _calculate_word_scores(self, phrase_list):\n",
    "        word_freq = nltk.FreqDist()\n",
    "        word_degree = nltk.FreqDist()\n",
    "        for phrase in phrase_list:\n",
    "            degree = len(list(filter(lambda x: not isNumeric(x), phrase))) #Number of Distinct Words in the Phrase\n",
    "            for word in phrase:\n",
    "                word_freq[word] += 1\n",
    "                word_degree[word]+=degree\n",
    "        # word score = deg(w) / freq(w)\n",
    "        word_scores = {}\n",
    "        for word in word_freq.keys():\n",
    "            word_scores[word] = word_degree[word] / word_freq[word]\n",
    "        return word_scores\n",
    "\n",
    "    def _calculate_phrase_scores(self, phrase_list, word_scores):\n",
    "        phrase_scores = {}\n",
    "        for phrase in phrase_list:\n",
    "            phrase_score = 0\n",
    "            for word in phrase:\n",
    "                phrase_score += word_scores[word]\n",
    "                phrase_scores[\" \".join(phrase)] = phrase_score\n",
    "        return phrase_scores\n",
    "    \n",
    "    def extract(self, text, incl_scores=False):\n",
    "        sentences = nltk.sent_tokenize(text)\n",
    "        phrase_list = self._generate_candidate_keywords(sentences)\n",
    "        word_scores = self._calculate_word_scores(phrase_list)\n",
    "        phrase_scores = self._calculate_phrase_scores(phrase_list, word_scores)\n",
    "        sorted_phrase_scores = sorted(phrase_scores.items(),\n",
    "        key=operator.itemgetter(1), reverse=True)\n",
    "        n_phrases = len(sorted_phrase_scores)\n",
    "        if incl_scores:\n",
    "            return sorted_phrase_scores[0:int(n_phrases/self.top_fraction)]\n",
    "        else:\n",
    "            return map(lambda x: x[0],sorted_phrase_scores[0:int(n_phrases/self.top_fraction)])"
   ]
  },
  {
   "cell_type": "code",
   "execution_count": 4,
   "metadata": {
    "collapsed": false,
    "scrolled": true
   },
   "outputs": [
    {
     "data": {
      "text/plain": [
       "[('minimal generating sets', 8.666666666666666),\n",
       " ('linear diophantine equations', 8.5),\n",
       " ('minimal supporting set', 7.666666666666666),\n",
       " ('minimal set', 4.666666666666666),\n",
       " ('linear constraints', 4.5),\n",
       " ('strict inequations', 4.0),\n",
       " ('nonstrict inequations', 4.0),\n",
       " ('natural numbers', 4.0),\n",
       " ('upper bounds', 4.0),\n",
       " ('mixed types', 3.666666666666667),\n",
       " ('corresponding algorithms', 3.5),\n",
       " ('considered types', 3.166666666666667),\n",
       " ('set', 2.0),\n",
       " ('types', 1.6666666666666667),\n",
       " ('algorithms', 1.5),\n",
       " ('considered', 1.5),\n",
       " ('compatibility', 1.0),\n",
       " ('given', 1.0),\n",
       " ('criteria', 1.0),\n",
       " ('construction', 1.0),\n",
       " ('used', 1.0),\n",
       " ('components', 1.0),\n",
       " ('system', 1.0),\n",
       " ('constructing', 1.0),\n",
       " ('solutions', 1.0),\n",
       " ('systems', 1.0),\n",
       " ('solving', 1.0)]"
      ]
     },
     "execution_count": 4,
     "metadata": {},
     "output_type": "execute_result"
    }
   ],
   "source": [
    "def test(feedback):\n",
    "    rake = RakeKeywordExtractor()\n",
    "    keywords = rake.extract(feedback, incl_scores=True)\n",
    "    return keywords\n",
    "f1=\"\"\"\n",
    "    Compatibility of systems of linear constraints over the set of natural \n",
    "    numbers. Criteria of compatibility of a system of linear Diophantine \n",
    "    equations, strict inequations, and nonstrict inequations are considered. \n",
    "    Upper bounds for components of a minimal set of solutions and algorithms \n",
    "    of construction of minimal generating sets of solutions for all types of \n",
    "    systems are given. These criteria and the corresponding algorithms for \n",
    "    constructing a minimal supporting set of solutions can be used in solving \n",
    "    all the considered types of systems and systems of mixed types.\n",
    "    \"\"\" \n",
    "test(f1)"
   ]
  },
  {
   "cell_type": "code",
   "execution_count": 5,
   "metadata": {
    "collapsed": false
   },
   "outputs": [],
   "source": [
    "import json\n",
    "from pprint import pprint\n",
    "def parse(filename):\n",
    "    with open(filename) as data_file:\n",
    "        data = json.load(data_file) \n",
    "        return data"
   ]
  },
  {
   "cell_type": "code",
   "execution_count": 6,
   "metadata": {
    "collapsed": false
   },
   "outputs": [],
   "source": [
    "parsedData=parse(\"Musical_Instruments_5.json\")"
   ]
  },
  {
   "cell_type": "code",
   "execution_count": 7,
   "metadata": {
    "collapsed": false
   },
   "outputs": [],
   "source": [
    "commentText=[]\n",
    "rakeTags=[]\n",
    "amazonMusicReviewDF=pd.DataFrame(columns=[\"ReviewText\",\"RakePhrases\"])\n",
    "for i in np.arange(10):\n",
    "    amazonMusicReviewDF.loc[i]=[parsedData[i][\"reviewText\"],test(parsedData[i][\"reviewText\"])]"
   ]
  },
  {
   "cell_type": "code",
   "execution_count": 8,
   "metadata": {
    "collapsed": true
   },
   "outputs": [
    {
     "data": {
      "text/plain": [
       "('Nice windscreen protects my MXL mic and prevents pops. Only thing is that the gooseneck is only marginally able to hold the screen in position and requires careful positioning of the clamp to avoid sagging.',\n",
       " [('nice windscreen protects', 9.0),\n",
       "  ('requires careful positioning', 9.0),\n",
       "  ('mxl mic', 4.0),\n",
       "  ('avoid sagging', 4.0),\n",
       "  ('marginally able', 4.0),\n",
       "  ('prevents pops', 4.0),\n",
       "  ('screen', 1.0),\n",
       "  ('thing', 1.0),\n",
       "  ('hold', 1.0),\n",
       "  ('clamp', 1.0),\n",
       "  ('position', 1.0),\n",
       "  ('gooseneck', 1.0)])"
      ]
     },
     "execution_count": 8,
     "metadata": {},
     "output_type": "execute_result"
    }
   ],
   "source": [
    "amazonMusicReviewDF.loc[3].ReviewText,amazonMusicReviewDF.loc[3].RakePhrases"
   ]
  },
  {
   "cell_type": "code",
   "execution_count": 9,
   "metadata": {
    "collapsed": true
   },
   "outputs": [
    {
     "data": {
      "text/plain": [
       "(\"This pop filter is great. It looks and performs like a studio filter. If you're recording vocals this will eliminate the pops that gets recorded when you sing.\",\n",
       " [(\"'re recording vocals\", 9.0),\n",
       "  ('gets recorded', 4.0),\n",
       "  ('studio filter', 4.0),\n",
       "  ('pop filter', 4.0),\n",
       "  ('performs like', 4.0),\n",
       "  ('eliminate', 1.0),\n",
       "  ('sing', 1.0),\n",
       "  ('great', 1.0),\n",
       "  ('looks', 1.0),\n",
       "  ('pops', 1.0)])"
      ]
     },
     "execution_count": 9,
     "metadata": {},
     "output_type": "execute_result"
    }
   ],
   "source": [
    "i=4\n",
    "amazonMusicReviewDF.loc[i].ReviewText,amazonMusicReviewDF.loc[i].RakePhrases"
   ]
  },
  {
   "cell_type": "code",
   "execution_count": 10,
   "metadata": {
    "collapsed": true
   },
   "outputs": [
    {
     "data": {
      "text/plain": [
       "(\"I now use this cable to run from the output of my pedal chain to the input of my Fender Amp. After I bought Monster Cable to hook up my pedal board I thought I would try another one and update my guitar. I had been using a high end Planet Waves cable that I bought in the 1980's... Once I found out the input jacks on the new Monster cable didn't fit into the Fender Strat jack I was a little disappointed... I didn't return it and as stated I use it for the output on the pedal board. Save your money... I went back to my Planet Waves Cable...I payed $30.00 back in the eighties for the Planet Waves which now comes in at around $50.00. What I'm getting at is you get what you pay for. I thought Waves was a lot of money back in the day...but I haven't bought a guitar cable since this one...20 plus years and still working...Planet Waves wins.\",\n",
       " [('still working ... planet waves wins', 28.75),\n",
       "  ('one ... 20 plus years', 19.6),\n",
       "  ('would try another one', 16.0),\n",
       "  ('planet waves cable ...', 13.583333333333334),\n",
       "  ('planet waves cable', 9.983333333333334),\n",
       "  ('new monster cable', 8.833333333333334),\n",
       "  ('fender strat jack', 8.5),\n",
       "  ('guitar cable since', 7.833333333333334),\n",
       "  ('bought monster cable', 7.833333333333334),\n",
       "  (\"1980 's ...\", 7.6),\n",
       "  ('planet waves', 7.15),\n",
       "  ('day ...', 5.6),\n",
       "  ('thought waves', 4.9),\n",
       "  ('fender amp', 4.5),\n",
       "  ('pedal board', 4.0),\n",
       "  (\"n't fit\", 4.0),\n",
       "  (\"'m getting\", 4.0),\n",
       "  (\"n't bought\", 4.0),\n",
       "  ('pedal chain', 4.0),\n",
       "  (\"n't return\", 4.0),\n",
       "  ('went back', 3.666666666666667),\n",
       "  ('money back', 3.666666666666667),\n",
       "  ('input jacks', 3.5),\n",
       "  ('cable', 2.8333333333333335),\n",
       "  ('30.00 back', 2.666666666666667),\n",
       "  ('guitar', 2.0),\n",
       "  ('bought', 2.0),\n",
       "  ('thought', 1.5),\n",
       "  ('input', 1.5),\n",
       "  ('payed', 1.0),\n",
       "  ('comes', 1.0),\n",
       "  ('stated', 1.0),\n",
       "  ('lot', 1.0),\n",
       "  ('save', 1.0),\n",
       "  ('high', 1.0),\n",
       "  ('get', 1.0),\n",
       "  ('output', 1.0),\n",
       "  ('update', 1.0),\n",
       "  ('hook', 1.0),\n",
       "  ('found', 1.0),\n",
       "  ('run', 1.0),\n",
       "  ('around', 1.0),\n",
       "  ('eighties', 1.0),\n",
       "  ('pay', 1.0),\n",
       "  ('using', 1.0),\n",
       "  ('use', 1.0),\n",
       "  ('50.00', 0.0)])"
      ]
     },
     "execution_count": 10,
     "metadata": {},
     "output_type": "execute_result"
    }
   ],
   "source": [
    "i=7\n",
    "amazonMusicReviewDF.loc[i].ReviewText,amazonMusicReviewDF.loc[i].RakePhrases"
   ]
  },
  {
   "cell_type": "code",
   "execution_count": 81,
   "metadata": {
    "collapsed": false
   },
   "outputs": [],
   "source": [
    "class RakeWithPMIKeywordExtractor:\n",
    "    def __init__(self):\n",
    "        self.stopwords = set(nltk.corpus.stopwords.words())\n",
    "        self.top_fraction = 1 # consider top third candidate keywords by score\n",
    "    def _generate_candidate_keywords(self, sentences):\n",
    "        phrase_list = []\n",
    "        for sentence in sentences:\n",
    "            words = map(lambda x: \"|\" if x in self.stopwords else x,nltk.word_tokenize(sentence.lower()))\n",
    "            ##words => NONSTOPWORD | NONSTOPWORD NONSTOPWORD NONSTOPWORD | | NONSTOPWORD | NONSTOPWORD NONSTOPWORD |\n",
    "            phrase = []\n",
    "            for word in words:\n",
    "                if word == \"|\" or isPunct(word):\n",
    "                    if len(phrase) > 0:\n",
    "                        phrase_list.append(phrase)#Got At least 1 NonStopWord\n",
    "                    phrase = []#Prepare for Next Continous NonStopWords\n",
    "                else:\n",
    "                    phrase.append(word)#NonStopWord\n",
    "        return phrase_list\n",
    "\n",
    "    def _chkAndAddDictEntry(self,dictObj,key,value=1):\n",
    "        if dictObj.get(key)==None:\n",
    "            dictObj[key]=value\n",
    "        else:\n",
    "            dictObj[key]+=value\n",
    "    def _chkAndInitiateDictEntry(self,dictOfDictObj,key,initialDict):\n",
    "        if dictOfDictObj.get(key)==None:\n",
    "            dictOfDictObj[key]=initialDict;\n",
    "        return dictOfDictObj[key]\n",
    "    #This implementation of PMI does ignore reapeating words in a KeyPhrase\n",
    "    def _prepareJoinFreqMatrix(self,all_phrase_lists):\n",
    "        corpusLevelDict={}#It is Symmetric corpusLevelDict[\"w1\"][\"w2\"]=corpusLevelDict[\"w2\"][\"w1\"]\n",
    "        corpusLevelWordC={}\n",
    "        wordLevelDict={}\n",
    "        self.phraseCorpus=all_phrase_lists\n",
    "        for phrase_list_all in all_phrase_lists:\n",
    "            phrase_list=set(phrase_list_all)\n",
    "            for word in phrase_list:\n",
    "                wordLevelDict=self._chkAndInitiateDictEntry(corpusLevelDict,word,{})\n",
    "                self._chkAndAddDictEntry(corpusLevelWordC,word)\n",
    "                for neighWord in phrase_list:\n",
    "                    #if word==neighWord:\n",
    "                    #    continue\n",
    "                    self._chkAndAddDictEntry(wordLevelDict,neighWord)\n",
    "        self.JointFreq=corpusLevelDict;\n",
    "        self.PMIMatrix=copy.deepcopy(self.JointFreq)\n",
    "        self.wordFreqInKEAPhrases=corpusLevelWordC\n",
    "        self.UniFreq=copy.deepcopy(corpusLevelWordC)\n",
    "        return corpusLevelDict\n",
    "    def _updatePMIDMatrix(self):\n",
    "        wordFreqDict=self.wordFreqInKEAPhrases\n",
    "        joinFreqDist=self.PMIMatrix\n",
    "        allPhrases=self.phraseCorpus\n",
    "        keyPhrasesC=len(allPhrases)\n",
    "        wordFreqDict.update({k:v/keyPhrasesC for k, v in wordFreqDict.items()})\n",
    "        for word in joinFreqDist.keys():\n",
    "            joinFreqDist[word].update({k:v/keyPhrasesC for k, v in joinFreqDist[word].items()})\n",
    "    def _getPMIValue(self,word1,word2):\n",
    "        #Handle Here Unseen Data: With Some Smoothing: Say Laplace\n",
    "        #MI(word1,word2)=p(word1,word2)log(p(word1,word2)/p(word1)p(word2))\n",
    "        prob_word1_word2=self.PMIMatrix[word1][word2]\n",
    "        prob_word1=self.wordFreqInKEAPhrases[word1]\n",
    "        prob_word2=self.wordFreqInKEAPhrases[word2]\n",
    "        return prob_word1_word2*log10(prob_word1_word2/(prob_word1*prob_word2))\n",
    "    def _populatePMIValue(self):\n",
    "        joinFreqDist=self.PMIMatrix\n",
    "        for word in joinFreqDist.keys():\n",
    "                joinFreqDist[word].update({k:self._getPMIValue(word,k) for k, v in joinFreqDist[word].items()})\n",
    "    def _computePMIAndRankKeyPhrases(self):\n",
    "        rankedDict={}\n",
    "        for phrase in self.phraseCorpus:\n",
    "            phraseStr=\"\"\n",
    "            ans=0.0\n",
    "            for i in np.arange(len(phrase)):\n",
    "                phraseStr=phraseStr+\" \"+phrase[i]\n",
    "                j=i+1\n",
    "                while j<len(phrase):\n",
    "                    ans+=self.PMIMatrix[phrase[i]][phrase[j]]\n",
    "                    j=j+1\n",
    "            rankedDict[phraseStr]=ans\n",
    "        rankedDict = sorted(rankedDict.items(),key=operator.itemgetter(1), reverse=True)\n",
    "        self.rankedKeyPhrasesDict=rankedDict"
   ]
  },
  {
   "cell_type": "code",
   "execution_count": 82,
   "metadata": {
    "collapsed": false
   },
   "outputs": [],
   "source": [
    "def getListOfPharases(reviewDF,fieldName):\n",
    "    listOfPhrases=[]\n",
    "    rakePhrases=reviewDF[fieldName]\n",
    "    for i in np.arange(len(rakePhrases)):\n",
    "        rakePhrase=rakePhrases[i]\n",
    "        for j in np.arange(len(rakePhrase)):\n",
    "            listOfPhrases.append(rakePhrase[j][0].split(\" \"))\n",
    "    return listOfPhrases\n",
    "def testPMI():\n",
    "    listOfPhrases=getListOfPharases(amazonMusicReviewDF,\"RakePhrases\")\n",
    "    rake = RakeWithPMIKeywordExtractor()\n",
    "    rake._prepareJoinFreqMatrix(listOfPhrases)\n",
    "    return rake"
   ]
  },
  {
   "cell_type": "code",
   "execution_count": 83,
   "metadata": {
    "collapsed": false
   },
   "outputs": [],
   "source": [
    "rakeObj=testPMI()\n",
    "rakeObj._updatePMIDMatrix()\n",
    "rakeObj._populatePMIValue()\n",
    "rakeObj._computePMIAndRankKeyPhrases()"
   ]
  },
  {
   "cell_type": "code",
   "execution_count": 84,
   "metadata": {
    "collapsed": false
   },
   "outputs": [
    {
     "data": {
      "text/plain": [
       "[(' still working ... planet waves wins', 0.16546514496818118),\n",
       " (' lifetime warranty doesnt hurt either', 0.12075945297641516),\n",
       " (' planet waves cable ...', 0.08853783196089851),\n",
       " (' one ... 20 plus years', 0.0796868771529823),\n",
       " (' mike stand secure enough', 0.07289331357871119),\n",
       " (' metal clamp mount attaches', 0.06806395535950294),\n",
       " (' would try another one', 0.06034832227754551),\n",
       " (' planet waves cable', 0.058119293180434774),\n",
       " (' lowest prices pop filters', 0.056850532830048095),\n",
       " (' double cloth filter blocks', 0.056850532830048095),\n",
       " (' pop filter next', 0.03849631958370766),\n",
       " (' goose neck needs', 0.036446656789355596),\n",
       " (' old grape candy', 0.036446656789355596),\n",
       " (' requires careful positioning', 0.036446656789355596),\n",
       " (' nice windscreen protects', 0.036446656789355596),\n",
       " (' 90 degree plug', 0.036446656789355596),\n",
       " (' epiphone sheraton ii', 0.036446656789355596),\n",
       " (' learned last night', 0.036446656789355596),\n",
       " (' cant go wrong', 0.036446656789355596),\n",
       " (' still works great', 0.0341074677281827),\n",
       " (' planet waves', 0.03364431234653433),\n",
       " (' used monster cables', 0.033583030944571504),\n",
       " (\" 're recording vocals\", 0.03322708464321676),\n",
       " (' would otherwise produce', 0.03322708464321676),\n",
       " (' pleasing aroma like', 0.03322708464321676),\n",
       " (' fender strat jack', 0.03322708464321676),\n",
       " (\" reminiscent 's sake\", 0.030007512497077928),\n",
       " (' bass guitar rig', 0.028124183523220367),\n",
       " (' bought another one', 0.028062902121257532),\n",
       " (' new monster cable', 0.026847694733540622),\n",
       " (' bass sounds great', 0.023568368204800252),\n",
       " (' guitar cable since', 0.02302128240322398),\n",
       " (\" 1980 's ...\", 0.02253189747744136),\n",
       " (' pop filter', 0.021674163410440494),\n",
       " (' lifetime warranty', 0.021078199046764896),\n",
       " (' bought monster cable', 0.020408550441262947),\n",
       " (' monster cables', 0.0204038760406925),\n",
       " (' works great', 0.01785862690062606),\n",
       " (' heavy cord', 0.012148885596451865),\n",
       " (' screens carries', 0.012148885596451865),\n",
       " (' noticeable reduction', 0.012148885596451865),\n",
       " (' marginally able', 0.012148885596451865),\n",
       " (' added bonus', 0.012148885596451865),\n",
       " (' gets recorded', 0.012148885596451865),\n",
       " (' harm done', 0.012148885596451865),\n",
       " (' mxl mic', 0.012148885596451865),\n",
       " (' gold connectors', 0.012148885596451865),\n",
       " (' stop putting', 0.012148885596451865),\n",
       " (' little coaxing', 0.012148885596451865),\n",
       " (' simple fact', 0.012148885596451865),\n",
       " (' expensive ones', 0.012148885596451865),\n",
       " (' price alone', 0.012148885596451865),\n",
       " (' read instructions', 0.012148885596451865),\n",
       " (' avoid sagging', 0.012148885596451865),\n",
       " (' line series', 0.012148885596451865),\n",
       " (' popping sound', 0.012148885596451865),\n",
       " (' quite affordable.i', 0.012148885596451865),\n",
       " (' primary job', 0.012148885596451865),\n",
       " (' small hint', 0.012148885596451865),\n",
       " (' input jacks', 0.010539099523382448),\n",
       " (' double screened', 0.010539099523382448),\n",
       " (' may even', 0.010539099523382448),\n",
       " (' even better', 0.010539099523382448),\n",
       " (\" 'm getting\", 0.010539099523382448),\n",
       " (' performs like', 0.010539099523382448),\n",
       " (' pedal chain', 0.010539099523382448),\n",
       " (' high frequencies', 0.010539099523382448),\n",
       " (' good reason', 0.010539099523382448),\n",
       " (' pedal board', 0.010539099523382448),\n",
       " (' honestly work', 0.010539099523382448),\n",
       " (' fender amp', 0.010539099523382448),\n",
       " (\" n't return\", 0.00959743503645367),\n",
       " (' 30.00 back', 0.00959743503645367),\n",
       " (' well constructed', 0.00959743503645367),\n",
       " (' went back', 0.00959743503645367),\n",
       " (\" n't fit\", 0.00959743503645367),\n",
       " (' money back', 0.00959743503645367),\n",
       " (' prevents pops', 0.00959743503645367),\n",
       " (\" 's supposed\", 0.00892931345031303),\n",
       " (' cables break', 0.008411078086633583),\n",
       " (' best cables', 0.008411078086633583),\n",
       " (' studio filter', 0.008411078086633583),\n",
       " (' day ...', 0.008411078086633583),\n",
       " (' monster makes', 0.007987648963384253),\n",
       " (' well buy', 0.007987648963384253),\n",
       " (' thought waves', 0.006801292013564166),\n",
       " (' pop sounds', 0.006801292013564166),\n",
       " (\" n't bought\", 0.006377862890314835),\n",
       " (' might', 0.0),\n",
       " (' realized', 0.0),\n",
       " (' work', 0.0),\n",
       " (' time', 0.0),\n",
       " (' pay', 0.0),\n",
       " (' replace', 0.0),\n",
       " (' perfect', 0.0),\n",
       " (' found', 0.0),\n",
       " (' cost', 0.0),\n",
       " (' keep', 0.0),\n",
       " (' good', 0.0),\n",
       " (' one', 0.0),\n",
       " (' top', 0.0),\n",
       " (' isnt', 0.0),\n",
       " (' device', 0.0),\n",
       " (' thought', 0.0),\n",
       " (' clamp', 0.0),\n",
       " (' years', 0.0),\n",
       " (' getting', 0.0),\n",
       " (' volume', 0.0),\n",
       " (' guess', 0.0),\n",
       " (' product', 0.0),\n",
       " (' write', 0.0),\n",
       " (' run', 0.0),\n",
       " (' coloration', 0.0),\n",
       " (' eighties', 0.0),\n",
       " (' hold', 0.0),\n",
       " (' coil', 0.0),\n",
       " (' smell', 0.0),\n",
       " (' breath', 0.0),\n",
       " (' several', 0.0),\n",
       " (' smelling', 0.0),\n",
       " (\" 's\", 0.0),\n",
       " (' allowing', 0.0),\n",
       " (' voice', 0.0),\n",
       " (' lets', 0.0),\n",
       " (' looks', 0.0),\n",
       " (' stated', 0.0),\n",
       " (' bought', 0.0),\n",
       " (' expected.as', 0.0),\n",
       " (' using', 0.0),\n",
       " (' lot', 0.0),\n",
       " (' well', 0.0),\n",
       " (' sing', 0.0),\n",
       " (' wanted', 0.0),\n",
       " (' great', 0.0),\n",
       " (' high', 0.0),\n",
       " (' around', 0.0),\n",
       " (' dif', 0.0),\n",
       " (' recordings', 0.0),\n",
       " (' worth', 0.0),\n",
       " (' use', 0.0),\n",
       " (' comes', 0.0),\n",
       " (' much', 0.0),\n",
       " (' payed', 0.0),\n",
       " (' needed', 0.0),\n",
       " (' eliminate', 0.0),\n",
       " (' 50.00', 0.0),\n",
       " (' hook', 0.0),\n",
       " (' used', 0.0),\n",
       " (' pass', 0.0),\n",
       " (' stay', 0.0),\n",
       " (' love', 0.0),\n",
       " (' thing', 0.0),\n",
       " (' carefully', 0.0),\n",
       " (' despite', 0.0),\n",
       " (' attached', 0.0),\n",
       " (' nose', 0.0),\n",
       " (' arrived', 0.0),\n",
       " (' screen', 0.0),\n",
       " (' buy', 0.0),\n",
       " (' exactly', 0.0),\n",
       " (' got', 0.0),\n",
       " (' recording', 0.0),\n",
       " (' position', 0.0),\n",
       " (' update', 0.0),\n",
       " (' save', 0.0),\n",
       " (' output', 0.0),\n",
       " (' guitar', 0.0),\n",
       " (' pricing', 0.0),\n",
       " (' filters', 0.0),\n",
       " (' get', 0.0),\n",
       " (' block', 0.0),\n",
       " (' never', 0.0),\n",
       " (' pops', 0.0),\n",
       " (' gooseneck', 0.0),\n",
       " (' problems', 0.0),\n",
       " (' crisp', 0.0),\n",
       " (' put', 0.0),\n",
       " (' input', 0.0),\n",
       " (' cable', 0.0),\n",
       " (' amazon', 0.0)]"
      ]
     },
     "execution_count": 84,
     "metadata": {},
     "output_type": "execute_result"
    }
   ],
   "source": [
    "rakeObj.rankedKeyPhrasesDict"
   ]
  },
  {
   "cell_type": "code",
   "execution_count": 59,
   "metadata": {
    "collapsed": false
   },
   "outputs": [
    {
     "data": {
      "text/plain": [
       "[['lowest', 'prices', 'pop', 'filters'],\n",
       " ['pop', 'sounds'],\n",
       " ['well', 'buy'],\n",
       " ['honestly', 'work'],\n",
       " [\"'s\", 'supposed'],\n",
       " ['filters'],\n",
       " ['much'],\n",
       " ['recordings'],\n",
       " ['pricing'],\n",
       " ['might'],\n",
       " ['despite'],\n",
       " ['crisp'],\n",
       " ['one'],\n",
       " ['exactly'],\n",
       " ['write'],\n",
       " ['amazon'],\n",
       " ['old', 'grape', 'candy'],\n",
       " ['reminiscent', \"'s\", 'sake'],\n",
       " ['pleasing', 'aroma', 'like'],\n",
       " ['pop', 'filter', 'next'],\n",
       " ['pop', 'filter'],\n",
       " ['quite', 'affordable.i'],\n",
       " ['screens', 'carries'],\n",
       " ['added', 'bonus'],\n",
       " ['expensive', 'ones'],\n",
       " ['even', 'better'],\n",
       " ['may', 'even'],\n",
       " ['double', 'screened'],\n",
       " ['small', 'hint'],\n",
       " ['stop', 'putting'],\n",
       " ['smell'],\n",
       " ['dif'],\n",
       " ['one'],\n",
       " ['smelling'],\n",
       " ['well'],\n",
       " ['exactly'],\n",
       " ['product'],\n",
       " ['realized'],\n",
       " ['recording'],\n",
       " ['needed'],\n",
       " ['work'],\n",
       " ['used'],\n",
       " ['expected.as'],\n",
       " ['buy'],\n",
       " ['nose'],\n",
       " ['arrived'],\n",
       " ['metal', 'clamp', 'mount', 'attaches'],\n",
       " ['mike', 'stand', 'secure', 'enough'],\n",
       " ['double', 'cloth', 'filter', 'blocks'],\n",
       " ['goose', 'neck', 'needs'],\n",
       " ['would', 'otherwise', 'produce'],\n",
       " ['noticeable', 'reduction'],\n",
       " ['primary', 'job'],\n",
       " ['popping', 'sound'],\n",
       " ['high', 'frequencies'],\n",
       " ['little', 'coaxing'],\n",
       " ['pass'],\n",
       " ['lets'],\n",
       " ['attached'],\n",
       " ['voice'],\n",
       " ['keep'],\n",
       " ['put'],\n",
       " ['volume'],\n",
       " ['device'],\n",
       " ['stay'],\n",
       " ['breath'],\n",
       " ['allowing'],\n",
       " ['coloration'],\n",
       " ['block'],\n",
       " ['pops'],\n",
       " ['nice', 'windscreen', 'protects'],\n",
       " ['requires', 'careful', 'positioning'],\n",
       " ['mxl', 'mic'],\n",
       " ['avoid', 'sagging'],\n",
       " ['marginally', 'able'],\n",
       " ['prevents', 'pops'],\n",
       " ['screen'],\n",
       " ['thing'],\n",
       " ['hold'],\n",
       " ['clamp'],\n",
       " ['position'],\n",
       " ['gooseneck'],\n",
       " [\"'re\", 'recording', 'vocals'],\n",
       " ['gets', 'recorded'],\n",
       " ['studio', 'filter'],\n",
       " ['pop', 'filter'],\n",
       " ['performs', 'like'],\n",
       " ['eliminate'],\n",
       " ['sing'],\n",
       " ['great'],\n",
       " ['looks'],\n",
       " ['pops'],\n",
       " ['learned', 'last', 'night'],\n",
       " ['bass', 'sounds', 'great'],\n",
       " ['bought', 'another', 'one'],\n",
       " ['still', 'works', 'great'],\n",
       " ['read', 'instructions'],\n",
       " ['heavy', 'cord'],\n",
       " ['harm', 'done'],\n",
       " ['gold', 'connectors'],\n",
       " ['coil'],\n",
       " ['good'],\n",
       " ['guess'],\n",
       " ['love'],\n",
       " ['carefully'],\n",
       " ['used', 'monster', 'cables'],\n",
       " ['cables', 'break'],\n",
       " ['simple', 'fact'],\n",
       " ['price', 'alone'],\n",
       " ['good', 'reason'],\n",
       " ['lifetime', 'warranty'],\n",
       " ['getting'],\n",
       " [\"'s\"],\n",
       " ['years'],\n",
       " ['cost'],\n",
       " ['worth'],\n",
       " ['replace'],\n",
       " ['still', 'working', '...', 'planet', 'waves', 'wins'],\n",
       " ['one', '...', '20', 'plus', 'years'],\n",
       " ['would', 'try', 'another', 'one'],\n",
       " ['planet', 'waves', 'cable', '...'],\n",
       " ['planet', 'waves', 'cable'],\n",
       " ['new', 'monster', 'cable'],\n",
       " ['fender', 'strat', 'jack'],\n",
       " ['guitar', 'cable', 'since'],\n",
       " ['bought', 'monster', 'cable'],\n",
       " ['1980', \"'s\", '...'],\n",
       " ['planet', 'waves'],\n",
       " ['day', '...'],\n",
       " ['thought', 'waves'],\n",
       " ['fender', 'amp'],\n",
       " ['pedal', 'board'],\n",
       " [\"n't\", 'fit'],\n",
       " [\"'m\", 'getting'],\n",
       " [\"n't\", 'bought'],\n",
       " ['pedal', 'chain'],\n",
       " [\"n't\", 'return'],\n",
       " ['went', 'back'],\n",
       " ['money', 'back'],\n",
       " ['input', 'jacks'],\n",
       " ['cable'],\n",
       " ['30.00', 'back'],\n",
       " ['guitar'],\n",
       " ['bought'],\n",
       " ['thought'],\n",
       " ['input'],\n",
       " ['payed'],\n",
       " ['comes'],\n",
       " ['stated'],\n",
       " ['lot'],\n",
       " ['save'],\n",
       " ['high'],\n",
       " ['get'],\n",
       " ['output'],\n",
       " ['update'],\n",
       " ['hook'],\n",
       " ['found'],\n",
       " ['run'],\n",
       " ['around'],\n",
       " ['eighties'],\n",
       " ['pay'],\n",
       " ['using'],\n",
       " ['use'],\n",
       " ['50.00'],\n",
       " ['epiphone', 'sheraton', 'ii'],\n",
       " ['90', 'degree', 'plug'],\n",
       " ['well', 'constructed'],\n",
       " ['monster', 'cables'],\n",
       " ['problems'],\n",
       " ['got'],\n",
       " ['wanted'],\n",
       " ['one'],\n",
       " ['years'],\n",
       " ['several'],\n",
       " ['perfect'],\n",
       " ['never'],\n",
       " ['lifetime', 'warranty', 'doesnt', 'hurt', 'either'],\n",
       " ['bass', 'guitar', 'rig'],\n",
       " ['cant', 'go', 'wrong'],\n",
       " ['monster', 'makes'],\n",
       " ['line', 'series'],\n",
       " ['works', 'great'],\n",
       " ['best', 'cables'],\n",
       " ['monster', 'cables'],\n",
       " ['top'],\n",
       " ['isnt'],\n",
       " ['time']]"
      ]
     },
     "execution_count": 59,
     "metadata": {},
     "output_type": "execute_result"
    }
   ],
   "source": [
    "listOfPhrases=getListOfPharases(amazonMusicReviewDF,\"RakePhrases\")\n",
    "listOfPhrases"
   ]
  },
  {
   "cell_type": "code",
   "execution_count": 29,
   "metadata": {
    "collapsed": false,
    "scrolled": true
   },
   "outputs": [
    {
     "name": "stdout",
     "output_type": "stream",
     "text": [
      "{'filters': 0.0053475935828877, 'prices': 0.0053475935828877, 'filter': 0.016042780748663103, 'next': 0.0053475935828877, 'lowest': 0.0053475935828877, 'sounds': 0.0053475935828877}\n"
     ]
    },
    {
     "data": {
      "text/plain": [
       "0.021674163410440494"
      ]
     },
     "execution_count": 29,
     "metadata": {},
     "output_type": "execute_result"
    }
   ],
   "source": [
    "print(rakeObj.PMIMatrix[\"pop\"])\n",
    "rakeObj._getPMIValue(\"pop\",\"filter\")"
   ]
  },
  {
   "cell_type": "code",
   "execution_count": 141,
   "metadata": {
    "collapsed": false
   },
   "outputs": [
    {
     "data": {
      "text/plain": [
       "187"
      ]
     },
     "execution_count": 141,
     "metadata": {},
     "output_type": "execute_result"
    }
   ],
   "source": [
    "len(listOfPhrases)"
   ]
  },
  {
   "cell_type": "code",
   "execution_count": 126,
   "metadata": {
    "collapsed": false
   },
   "outputs": [
    {
     "name": "stdout",
     "output_type": "stream",
     "text": [
      "Corpus Dictionary Size  239\n",
      "Total KeyPhrases  187\n"
     ]
    }
   ],
   "source": [
    "rakeObj=testPMI()"
   ]
  },
  {
   "cell_type": "code",
   "execution_count": 133,
   "metadata": {
    "collapsed": false
   },
   "outputs": [
    {
     "data": {
      "text/plain": [
       "1"
      ]
     },
     "execution_count": 133,
     "metadata": {},
     "output_type": "execute_result"
    }
   ],
   "source": []
  },
  {
   "cell_type": "code",
   "execution_count": 129,
   "metadata": {
    "collapsed": false
   },
   "outputs": [
    {
     "name": "stdout",
     "output_type": "stream",
     "text": [
      "{'prices': 1, 'filters': 1, 'pop': 1}\n",
      "{'filters': 1, 'sounds': 1, 'prices': 1, 'filter': 3, 'lowest': 1, 'next': 1}\n",
      "{'prices': 1, 'lowest': 1, 'pop': 1}\n",
      "{'studio': 1, 'pop': 3, 'cloth': 1, 'double': 1, 'blocks': 1, 'next': 1}\n"
     ]
    }
   ],
   "source": [
    "topLevelDict=rakeObj.PMIMatrix\n",
    "print(topLevelDict[\"lowest\"])\n",
    "print(topLevelDict[\"pop\"])\n",
    "print(topLevelDict[\"filters\"])\n",
    "print(topLevelDict[\"filter\"])"
   ]
  },
  {
   "cell_type": "code",
   "execution_count": null,
   "metadata": {
    "collapsed": false
   },
   "outputs": [],
   "source": [
    "listOfPhrases"
   ]
  },
  {
   "cell_type": "code",
   "execution_count": null,
   "metadata": {
    "collapsed": false
   },
   "outputs": [],
   "source": [
    "corpusLevelDict"
   ]
  },
  {
   "cell_type": "code",
   "execution_count": 35,
   "metadata": {
    "collapsed": false
   },
   "outputs": [
    {
     "name": "stdout",
     "output_type": "stream",
     "text": [
      "{'w2', 'ab', 'w3'}\n",
      "{'w1', 'cd', 'w2'}\n",
      "set()\n"
     ]
    }
   ],
   "source": [
    "p1=[[\"ab\",\"w2\",\"w3\"],[\"cd\",\"w1\",\"w2\",\"cd\"],[]]\n",
    "for phrase_list_all in p1:\n",
    "    phrase_list=set(phrase_list_all)\n",
    "    print(phrase_list)"
   ]
  },
  {
   "cell_type": "code",
   "execution_count": null,
   "metadata": {
    "collapsed": true
   },
   "outputs": [],
   "source": []
  },
  {
   "cell_type": "code",
   "execution_count": 20,
   "metadata": {
    "collapsed": false
   },
   "outputs": [
    {
     "data": {
      "text/plain": [
       "{'hj': 156, 'nota': {'notb': 45.1435}, 'pyth': {}}"
      ]
     },
     "execution_count": 20,
     "metadata": {},
     "output_type": "execute_result"
    }
   ],
   "source": [
    "topLevelDict"
   ]
  },
  {
   "cell_type": "code",
   "execution_count": 24,
   "metadata": {
    "collapsed": false
   },
   "outputs": [
    {
     "data": {
      "text/plain": [
       "3"
      ]
     },
     "execution_count": 24,
     "metadata": {},
     "output_type": "execute_result"
    }
   ],
   "source": [
    "len(topLevelDict.keys())"
   ]
  },
  {
   "cell_type": "code",
   "execution_count": 28,
   "metadata": {
    "collapsed": true
   },
   "outputs": [],
   "source": [
    "amazonMusicReviewDF.to_excel(\"AmazonMusicReview_RakeKeyPharses.xls\")"
   ]
  },
  {
   "cell_type": "code",
   "execution_count": null,
   "metadata": {
    "collapsed": true
   },
   "outputs": [],
   "source": []
  }
 ],
 "metadata": {
  "kernelspec": {
   "display_name": "Python 3",
   "language": "python",
   "name": "python3"
  },
  "language_info": {
   "codemirror_mode": {
    "name": "ipython",
    "version": 3
   },
   "file_extension": ".py",
   "mimetype": "text/x-python",
   "name": "python",
   "nbconvert_exporter": "python",
   "pygments_lexer": "ipython3",
   "version": "3.5.1"
  }
 },
 "nbformat": 4,
 "nbformat_minor": 0
}
